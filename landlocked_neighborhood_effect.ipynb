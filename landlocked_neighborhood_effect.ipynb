{
 "cells": [
  {
   "cell_type": "markdown",
   "metadata": {},
   "source": [
    "# Neighborhood Effects of Trade in Landlocked Countries\n",
    "\n",
    "The data set was part of my undergraduate senior project. The dataset contains data for 30 landlocked coutries over five years from 2014 to 2018. The data was obtained from the World Bank's World Development Indicators database and its World Inegrated Trade Services database. The goal of the project was to look at the effects of trade with neighboring countries on the economic level of a landlocked country."
   ]
  },
  {
   "cell_type": "code",
   "execution_count": 1,
   "metadata": {},
   "outputs": [],
   "source": [
    "import pandas as pd"
   ]
  },
  {
   "cell_type": "markdown",
   "metadata": {},
   "source": [
    "# User-defined Methods\n",
    "\n",
    "These methods were created in order to handle repitive tasks and also to make the code more readable."
   ]
  },
  {
   "cell_type": "code",
   "execution_count": 2,
   "metadata": {},
   "outputs": [],
   "source": [
    "# change column into categorical\n",
    "def set_as_category(df, col):\n",
    "    df[col] = df[col].astype(\"category\")\n",
    "    return df\n",
    "\n",
    "# remap values of income level\n",
    "def refactor_income(df):\n",
    "    mapping={'H': 1, 'UM': 1, 'LM': 0, 'L': 0}\n",
    "    df['income'] = df['income'].map(mapping)\n",
    "    return df\n",
    "\n",
    "# increase number of rows; change year from columns to rows\n",
    "def melt(df, col_name):\n",
    "    return pd.melt(df, id_vars = 'Country Code', value_vars = range(2014, 2019), var_name = 'year', value_name = col_name)\n",
    "\n",
    "# make sure that column header for years are the same\n",
    "def rename_fy_year(df):\n",
    "    for col in df.columns:\n",
    "        if col[slice(4)].isdigit():\n",
    "            df.rename(columns = {col:int(col[slice(4)])}, inplace = True)\n",
    "\n",
    "    return df\n",
    "\n",
    "# function that changes non-numeric values to NAN\n",
    "def non_num_na(df):\n",
    "    for i in df.columns[2:]:\n",
    "        df[i] = pd.to_numeric(df[i], errors = 'coerce')\n",
    "    return df"
   ]
  },
  {
   "cell_type": "markdown",
   "metadata": {},
   "source": [
    "## Data exploration\n",
    "\n",
    "An array was created with the names of data frames and a for loop was used to read all the files to the data frames. "
   ]
  },
  {
   "cell_type": "code",
   "execution_count": 3,
   "metadata": {},
   "outputs": [],
   "source": [
    "tables = ['gdp_pc', 'inflation', 'trade_pct', 'unemployment', 'income', 'total_export', 'export_neighbors', 'import_neighbors']\n",
    "\n",
    "# loop to create dataframes from csv files\n",
    "for table in tables:\n",
    "    locals()[table] = pd.read_csv(\"datafiles/\" + table + \".csv\")\\\n",
    "        .pipe(rename_fy_year)\\\n",
    "        .pipe(melt, col_name = table)\\\n",
    "        .sort_values(by = ['Country Code', 'year'])"
   ]
  },
  {
   "cell_type": "markdown",
   "metadata": {},
   "source": [
    "### Neighborhood trade factors\n",
    "\n",
    "`trade_ratio` and `trade_share` were created as indices to quantify the trade of a landlocked countries with their neighboring countries.\n",
    "\n",
    "`trade_ratio` is calculated as $\\frac{export_neighbors}{import_neighbors}$ and is the ratio of export and import with neighboring countries. A value of greater than $1$ indicates that this a landlocked country exports more to it neighbors than it imports from them and a value less than $1$ indicates the opposite.\n",
    "\n",
    "`trade_share` is calculates as $\\frac{export_neighbors}{total_export}$ and is the ratio of export to neighboring countries and the overall export by a landlocked country. A higher value indicates that the share of trade with neighboring countries is high for the landlocked country."
   ]
  },
  {
   "cell_type": "code",
   "execution_count": 4,
   "metadata": {},
   "outputs": [],
   "source": [
    "trade = pd.merge(total_export, export_neighbors)\n",
    "trade = pd.merge(trade, import_neighbors)\n",
    "\n",
    "# calculate trade_ratio and trade_share\n",
    "trade['trade_ratio'] = trade.export_neighbors / trade.import_neighbors\n",
    "trade['trade_share'] = trade.export_neighbors / trade.total_export\n",
    "trade = trade.drop(['total_export', 'export_neighbors', 'import_neighbors'], axis = 1)"
   ]
  },
  {
   "cell_type": "markdown",
   "metadata": {},
   "source": [
    "# Joining Tables\n",
    "\n",
    "The separate tables are joined using the `dataFrame.merge()` method. "
   ]
  },
  {
   "cell_type": "code",
   "execution_count": 5,
   "metadata": {},
   "outputs": [],
   "source": [
    "# merge into a single dataframe\n",
    "landlocked = pd.merge(gdp_pc, trade)\n",
    "landlocked = pd.merge(landlocked, inflation)\n",
    "landlocked = pd.merge(landlocked, trade_pct)\n",
    "landlocked = pd.merge(landlocked, unemployment)\n",
    "landlocked = pd.merge(landlocked, income)\\\n",
    "    .pipe(set_as_category, col = 'Country Code')\\\n",
    "    .pipe(set_as_category, col = 'year')\\\n",
    "    .pipe(refactor_income)\\\n",
    "    .pipe(set_as_category, col = 'income')\\\n",
    "    .pipe(non_num_na)\\\n",
    "    .fillna(method=\"ffill\")"
   ]
  },
  {
   "cell_type": "code",
   "execution_count": 6,
   "metadata": {},
   "outputs": [],
   "source": [
    "# write to file\n",
    "landlocked.to_csv(\"datafiles/landlocked.csv\")"
   ]
  }
 ],
 "metadata": {
  "kernelspec": {
   "display_name": "Python 3.9.12 ('base': conda)",
   "language": "python",
   "name": "python3"
  },
  "language_info": {
   "codemirror_mode": {
    "name": "ipython",
    "version": 3
   },
   "file_extension": ".py",
   "mimetype": "text/x-python",
   "name": "python",
   "nbconvert_exporter": "python",
   "pygments_lexer": "ipython3",
   "version": "3.9.12"
  },
  "orig_nbformat": 4,
  "vscode": {
   "interpreter": {
    "hash": "8bed2f518890bc1522a804e819266ab164efda4b527cd51f4eb574f143e563c5"
   }
  }
 },
 "nbformat": 4,
 "nbformat_minor": 2
}
